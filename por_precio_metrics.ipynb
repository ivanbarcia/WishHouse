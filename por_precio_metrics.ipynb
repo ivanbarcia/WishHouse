{
 "cells": [
  {
   "cell_type": "code",
   "execution_count": 1,
   "metadata": {},
   "outputs": [
    {
     "ename": "ModuleNotFoundError",
     "evalue": "No module named 'matplotlib'",
     "output_type": "error",
     "traceback": [
      "\u001b[0;31m---------------------------------------------------------------------------\u001b[0m",
      "\u001b[0;31mModuleNotFoundError\u001b[0m                       Traceback (most recent call last)",
      "\u001b[1;32m/Users/ivanbarcia/Repositories/Mine/WishHouse/WishHouse/por_precio_metrics.ipynb Cell 1\u001b[0m in \u001b[0;36m<module>\u001b[0;34m\u001b[0m\n\u001b[1;32m      <a href='vscode-notebook-cell:/Users/ivanbarcia/Repositories/Mine/WishHouse/WishHouse/por_precio_metrics.ipynb#W1sZmlsZQ%3D%3D?line=0'>1</a>\u001b[0m \u001b[39mimport\u001b[39;00m \u001b[39mpandas\u001b[39;00m \u001b[39mas\u001b[39;00m \u001b[39mpd\u001b[39;00m\n\u001b[0;32m----> <a href='vscode-notebook-cell:/Users/ivanbarcia/Repositories/Mine/WishHouse/WishHouse/por_precio_metrics.ipynb#W1sZmlsZQ%3D%3D?line=1'>2</a>\u001b[0m \u001b[39mfrom\u001b[39;00m \u001b[39mmatplotlib\u001b[39;00m \u001b[39mimport\u001b[39;00m pyplot \u001b[39mas\u001b[39;00m plt\n\u001b[1;32m      <a href='vscode-notebook-cell:/Users/ivanbarcia/Repositories/Mine/WishHouse/WishHouse/por_precio_metrics.ipynb#W1sZmlsZQ%3D%3D?line=3'>4</a>\u001b[0m \u001b[39m# Set this to 0 if you want to see full-text result\u001b[39;00m\n\u001b[1;32m      <a href='vscode-notebook-cell:/Users/ivanbarcia/Repositories/Mine/WishHouse/WishHouse/por_precio_metrics.ipynb#W1sZmlsZQ%3D%3D?line=4'>5</a>\u001b[0m pd\u001b[39m.\u001b[39moptions\u001b[39m.\u001b[39mdisplay\u001b[39m.\u001b[39mmax_colwidth \u001b[39m=\u001b[39m \u001b[39m0\u001b[39m\n",
      "\u001b[0;31mModuleNotFoundError\u001b[0m: No module named 'matplotlib'"
     ]
    }
   ],
   "source": [
    "import pandas as pd\n",
    "from matplotlib import pyplot as plt\n",
    "\n",
    "# Set this to 0 if you want to see full-text result\n",
    "pd.options.display.max_colwidth = 0\n",
    "\n",
    "output = 'por_precio_output.csv'\n",
    "df = pd.read_csv(output)\n",
    "\n",
    "# Filter by title\n",
    "titles = df.title.unique()\n",
    "for title in titles:\n",
    "    filtered = df.loc[(df.title == title)]\n",
    "    filtered = filtered.groupby([\"title\",\"price\"]).mean()\n",
    "    filtered.sort_values(by=['price'], inplace=True)\n",
    "    filtered.head()\n",
    "    print('\\r\\n' + '** ' + str(title) + ' result:' + ' **')\n",
    "    print(filtered)"
   ]
  }
 ],
 "metadata": {
  "kernelspec": {
   "display_name": "Python 3",
   "language": "python",
   "name": "python3"
  },
  "language_info": {
   "codemirror_mode": {
    "name": "ipython",
    "version": 3
   },
   "file_extension": ".py",
   "mimetype": "text/x-python",
   "name": "python",
   "nbconvert_exporter": "python",
   "pygments_lexer": "ipython3",
   "version": "3.9.6"
  },
  "orig_nbformat": 4,
  "vscode": {
   "interpreter": {
    "hash": "31f2aee4e71d21fbe5cf8b01ff0e069b9275f58929596ceb00d14d90e3e16cd6"
   }
  }
 },
 "nbformat": 4,
 "nbformat_minor": 2
}
